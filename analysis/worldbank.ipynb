{
 "cells": [
  {
   "cell_type": "code",
   "execution_count": 1,
   "metadata": {},
   "outputs": [
    {
     "name": "stderr",
     "output_type": "stream",
     "text": [
      "/Users/aidan/Library/Python/3.8/lib/python/site-packages/urllib3/__init__.py:35: NotOpenSSLWarning: urllib3 v2 only supports OpenSSL 1.1.1+, currently the 'ssl' module is compiled with 'LibreSSL 2.8.3'. See: https://github.com/urllib3/urllib3/issues/3020\n",
      "  warnings.warn(\n"
     ]
    }
   ],
   "source": [
    "import azure.cosmos\n",
    "from azure.cosmos.partition_key import PartitionKey\n",
    "from azure.identity import ClientSecretCredential, AzureCliCredential\n",
    "from azure.keyvault.secrets import SecretClient\n",
    "from pymongo import MongoClient\n",
    "import os"
   ]
  },
  {
   "cell_type": "code",
   "execution_count": 2,
   "metadata": {},
   "outputs": [
    {
     "data": {
      "text/plain": [
       "True"
      ]
     },
     "execution_count": 2,
     "metadata": {},
     "output_type": "execute_result"
    }
   ],
   "source": [
    "from dotenv import load_dotenv\n",
    "load_dotenv(\"/Users/aidan/Documents/proj_beta/.env\")"
   ]
  },
  {
   "cell_type": "code",
   "execution_count": 3,
   "metadata": {},
   "outputs": [],
   "source": [
    "# Get credentials from environment variables\n",
    "my_secret_key = os.getenv(\"SECRET_NAME\")\n",
    "\n",
    "# Authenticate using the client secret credential\n",
    "credential = AzureCliCredential()\n",
    "key_vault_url = os.getenv(\"AZURE_KEY_VAULT_URL\")\n",
    "secret_client = SecretClient(vault_url=key_vault_url, credential=credential)\n",
    "\n",
    "# Retrieve a secret by its name\n",
    "secret = secret_client.get_secret(my_secret_key)"
   ]
  },
  {
   "cell_type": "code",
   "execution_count": 4,
   "metadata": {},
   "outputs": [
    {
     "name": "stderr",
     "output_type": "stream",
     "text": [
      "/var/folders/n2/f841nn_95r1dcmhn6z7l1_9w0000gp/T/ipykernel_7307/539981733.py:5: UserWarning: You appear to be connected to a CosmosDB cluster. For more information regarding feature compatibility and support please visit https://www.mongodb.com/supportability/cosmosdb\n",
      "  client = MongoClient(cosmos_mongo_connection_string)\n"
     ]
    },
    {
     "name": "stdout",
     "output_type": "stream",
     "text": [
      "Databases in Cosmos DB (MongoDB API): ['projbeta-database']\n"
     ]
    }
   ],
   "source": [
    "# Get the connection string from Azure Key Vault or environment\n",
    "cosmos_mongo_connection_string = secret.value #os.getenv(\"COSMOS_MONGO_CONNECTION_STRING\")  # Or fetch from Key Vault\n",
    "\n",
    "# Initialize the MongoDB client\n",
    "client = MongoClient(cosmos_mongo_connection_string)\n",
    "\n",
    "# Test connection\n",
    "try:\n",
    "    # List databases\n",
    "    databases = client.list_database_names()\n",
    "    print(\"Databases in Cosmos DB (MongoDB API):\", databases)\n",
    "except Exception as e:\n",
    "    print(\"Failed to connect to Cosmos DB:\", e)"
   ]
  },
  {
   "cell_type": "code",
   "execution_count": 25,
   "metadata": {},
   "outputs": [],
   "source": [
    "db = client.get_database('projbeta-database')\n",
    "collections = db.list_collection_names()\n",
    "db.drop_collection(\"demo2\")\n",
    "collection = db.create_collection(\"demo2\")"
   ]
  },
  {
   "cell_type": "code",
   "execution_count": 26,
   "metadata": {},
   "outputs": [],
   "source": [
    "result = collection.insert_many([\n",
    "  { \"year\": '2019', \"migration\": 2.5, \"gdp\": 3.2},\n",
    "  { \"year\": '2020', \"migration\": 1.8, \"gdp\": 2.8},\n",
    "  { \"year\": '2021', \"migration\": 2.2, \"gdp\": 3.5},\n",
    "  { \"year\": '2022', \"migration\": 2.7, \"gdp\": 3.8},\n",
    "])"
   ]
  },
  {
   "cell_type": "code",
   "execution_count": 28,
   "metadata": {},
   "outputs": [
    {
     "name": "stdout",
     "output_type": "stream",
     "text": [
      "{'_id': ObjectId('6758b53fd8fc662434fcd6d9'), 'year': '2019', 'migration': 2.5, 'gdp': 3.2}\n",
      "{'_id': ObjectId('6758b53fd8fc662434fcd6da'), 'year': '2020', 'migration': 1.8, 'gdp': 2.8}\n",
      "{'_id': ObjectId('6758b53fd8fc662434fcd6db'), 'year': '2021', 'migration': 2.2, 'gdp': 3.5}\n",
      "{'_id': ObjectId('6758b53fd8fc662434fcd6dc'), 'year': '2022', 'migration': 2.7, 'gdp': 3.8}\n"
     ]
    }
   ],
   "source": [
    "documents = collection.find()\n",
    "\n",
    "# Print out each document\n",
    "for document in documents:\n",
    "    print(document)"
   ]
  },
  {
   "cell_type": "code",
   "execution_count": null,
   "metadata": {},
   "outputs": [],
   "source": []
  }
 ],
 "metadata": {
  "kernelspec": {
   "display_name": "Python 3",
   "language": "python",
   "name": "python3"
  },
  "language_info": {
   "codemirror_mode": {
    "name": "ipython",
    "version": 3
   },
   "file_extension": ".py",
   "mimetype": "text/x-python",
   "name": "python",
   "nbconvert_exporter": "python",
   "pygments_lexer": "ipython3",
   "version": "3.8.9"
  }
 },
 "nbformat": 4,
 "nbformat_minor": 2
}
