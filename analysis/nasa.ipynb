{
 "cells": [
  {
   "cell_type": "code",
   "execution_count": 40,
   "metadata": {},
   "outputs": [
    {
     "name": "stdout",
     "output_type": "stream",
     "text": [
      "Defaulting to user installation because normal site-packages is not writeable\n",
      "Requirement already satisfied: azure.cosmos in /Users/aidan/Library/Python/3.8/lib/python/site-packages (4.9.0)\n",
      "Requirement already satisfied: azure-identity in /Users/aidan/Library/Python/3.8/lib/python/site-packages (1.19.0)\n",
      "Requirement already satisfied: azure-keyvault-secrets in /Users/aidan/Library/Python/3.8/lib/python/site-packages (4.9.0)\n",
      "Requirement already satisfied: python-dotenv in /Users/aidan/Library/Python/3.8/lib/python/site-packages (1.0.1)\n",
      "Requirement already satisfied: pymongo in /Users/aidan/Library/Python/3.8/lib/python/site-packages (4.10.1)\n",
      "Requirement already satisfied: azure-core>=1.30.0 in /Users/aidan/Library/Python/3.8/lib/python/site-packages (from azure.cosmos) (1.32.0)\n",
      "Requirement already satisfied: typing-extensions>=4.6.0 in /Users/aidan/Library/Python/3.8/lib/python/site-packages (from azure.cosmos) (4.11.0)\n",
      "Requirement already satisfied: cryptography>=2.5 in /Users/aidan/Library/Python/3.8/lib/python/site-packages (from azure-identity) (44.0.0)\n",
      "Requirement already satisfied: msal>=1.30.0 in /Users/aidan/Library/Python/3.8/lib/python/site-packages (from azure-identity) (1.31.1)\n",
      "Requirement already satisfied: msal-extensions>=1.2.0 in /Users/aidan/Library/Python/3.8/lib/python/site-packages (from azure-identity) (1.2.0)\n",
      "Requirement already satisfied: isodate>=0.6.1 in /Users/aidan/Library/Python/3.8/lib/python/site-packages (from azure-keyvault-secrets) (0.7.2)\n",
      "Requirement already satisfied: dnspython<3.0.0,>=1.16.0 in /Users/aidan/Library/Python/3.8/lib/python/site-packages (from pymongo) (2.6.1)\n",
      "Requirement already satisfied: requests>=2.21.0 in /Users/aidan/Library/Python/3.8/lib/python/site-packages (from azure-core>=1.30.0->azure.cosmos) (2.32.3)\n",
      "Requirement already satisfied: six>=1.11.0 in /Library/Developer/CommandLineTools/Library/Frameworks/Python3.framework/Versions/3.8/lib/python3.8/site-packages (from azure-core>=1.30.0->azure.cosmos) (1.15.0)\n",
      "Requirement already satisfied: cffi>=1.12 in /Users/aidan/Library/Python/3.8/lib/python/site-packages (from cryptography>=2.5->azure-identity) (1.17.1)\n",
      "Requirement already satisfied: PyJWT<3,>=1.0.0 in /Users/aidan/Library/Python/3.8/lib/python/site-packages (from PyJWT[crypto]<3,>=1.0.0->msal>=1.30.0->azure-identity) (2.9.0)\n",
      "Requirement already satisfied: portalocker<3,>=1.4 in /Users/aidan/Library/Python/3.8/lib/python/site-packages (from msal-extensions>=1.2.0->azure-identity) (2.10.1)\n",
      "Requirement already satisfied: pycparser in /Users/aidan/Library/Python/3.8/lib/python/site-packages (from cffi>=1.12->cryptography>=2.5->azure-identity) (2.22)\n",
      "Requirement already satisfied: charset-normalizer<4,>=2 in /Users/aidan/Library/Python/3.8/lib/python/site-packages (from requests>=2.21.0->azure-core>=1.30.0->azure.cosmos) (3.4.0)\n",
      "Requirement already satisfied: idna<4,>=2.5 in /Users/aidan/Library/Python/3.8/lib/python/site-packages (from requests>=2.21.0->azure-core>=1.30.0->azure.cosmos) (3.10)\n",
      "Requirement already satisfied: urllib3<3,>=1.21.1 in /Users/aidan/Library/Python/3.8/lib/python/site-packages (from requests>=2.21.0->azure-core>=1.30.0->azure.cosmos) (2.2.1)\n",
      "Requirement already satisfied: certifi>=2017.4.17 in /Users/aidan/Library/Python/3.8/lib/python/site-packages (from requests>=2.21.0->azure-core>=1.30.0->azure.cosmos) (2024.2.2)\n",
      "\n",
      "\u001b[1m[\u001b[0m\u001b[34;49mnotice\u001b[0m\u001b[1;39;49m]\u001b[0m\u001b[39;49m A new release of pip is available: \u001b[0m\u001b[31;49m24.1\u001b[0m\u001b[39;49m -> \u001b[0m\u001b[32;49m24.3.1\u001b[0m\n",
      "\u001b[1m[\u001b[0m\u001b[34;49mnotice\u001b[0m\u001b[1;39;49m]\u001b[0m\u001b[39;49m To update, run: \u001b[0m\u001b[32;49m/Library/Developer/CommandLineTools/usr/bin/python3 -m pip install --upgrade pip\u001b[0m\n",
      "Note: you may need to restart the kernel to use updated packages.\n"
     ]
    }
   ],
   "source": [
    "%pip install azure.cosmos azure-identity azure-keyvault-secrets python-dotenv pymongo"
   ]
  },
  {
   "cell_type": "code",
   "execution_count": 1,
   "metadata": {},
   "outputs": [
    {
     "name": "stderr",
     "output_type": "stream",
     "text": [
      "/Users/aidan/Library/Python/3.8/lib/python/site-packages/urllib3/__init__.py:35: NotOpenSSLWarning: urllib3 v2 only supports OpenSSL 1.1.1+, currently the 'ssl' module is compiled with 'LibreSSL 2.8.3'. See: https://github.com/urllib3/urllib3/issues/3020\n",
      "  warnings.warn(\n"
     ]
    }
   ],
   "source": [
    "import azure.cosmos\n",
    "from azure.cosmos.partition_key import PartitionKey\n",
    "from azure.identity import ClientSecretCredential, AzureCliCredential\n",
    "from azure.keyvault.secrets import SecretClient\n",
    "from pymongo import MongoClient\n",
    "import os"
   ]
  },
  {
   "cell_type": "code",
   "execution_count": 2,
   "metadata": {},
   "outputs": [
    {
     "data": {
      "text/plain": [
       "True"
      ]
     },
     "execution_count": 2,
     "metadata": {},
     "output_type": "execute_result"
    }
   ],
   "source": [
    "from dotenv import load_dotenv\n",
    "load_dotenv(\"/Users/aidan/Documents/proj_beta/.env\")"
   ]
  },
  {
   "cell_type": "markdown",
   "metadata": {},
   "source": [
    "Authenticate and Retrieve Secrets from Azure Key Vault"
   ]
  },
  {
   "cell_type": "code",
   "execution_count": 3,
   "metadata": {},
   "outputs": [],
   "source": [
    "# Get credentials from environment variables\n",
    "my_secret_key = os.getenv(\"SECRET_NAME\")\n",
    "\n",
    "# Authenticate using the client secret credential\n",
    "credential = AzureCliCredential()\n",
    "key_vault_url = os.getenv(\"AZURE_KEY_VAULT_URL\")\n",
    "secret_client = SecretClient(vault_url=key_vault_url, credential=credential)\n",
    "\n",
    "# Retrieve a secret by its name\n",
    "secret = secret_client.get_secret(my_secret_key)"
   ]
  },
  {
   "cell_type": "markdown",
   "metadata": {},
   "source": [
    "Create a new instance of CosmosClient."
   ]
  },
  {
   "cell_type": "code",
   "execution_count": 4,
   "metadata": {},
   "outputs": [
    {
     "name": "stderr",
     "output_type": "stream",
     "text": [
      "/var/folders/n2/f841nn_95r1dcmhn6z7l1_9w0000gp/T/ipykernel_24528/539981733.py:5: UserWarning: You appear to be connected to a CosmosDB cluster. For more information regarding feature compatibility and support please visit https://www.mongodb.com/supportability/cosmosdb\n",
      "  client = MongoClient(cosmos_mongo_connection_string)\n"
     ]
    },
    {
     "name": "stdout",
     "output_type": "stream",
     "text": [
      "Databases in Cosmos DB (MongoDB API): ['projbeta-database']\n"
     ]
    }
   ],
   "source": [
    "# Get the connection string from Azure Key Vault or environment\n",
    "cosmos_mongo_connection_string = secret.value #os.getenv(\"COSMOS_MONGO_CONNECTION_STRING\")  # Or fetch from Key Vault\n",
    "\n",
    "# Initialize the MongoDB client\n",
    "client = MongoClient(cosmos_mongo_connection_string)\n",
    "\n",
    "# Test connection\n",
    "try:\n",
    "    # List databases\n",
    "    databases = client.list_database_names()\n",
    "    print(\"Databases in Cosmos DB (MongoDB API):\", databases)\n",
    "except Exception as e:\n",
    "    print(\"Failed to connect to Cosmos DB:\", e)"
   ]
  },
  {
   "cell_type": "markdown",
   "metadata": {},
   "source": [
    "Create collection in Database"
   ]
  },
  {
   "cell_type": "code",
   "execution_count": 11,
   "metadata": {},
   "outputs": [],
   "source": [
    "db = client.get_database('projbeta-database')\n",
    "collections = db.list_collection_names()\n",
    "db.drop_collection(\"demo\")\n",
    "collection = db.create_collection(\"demo\")"
   ]
  },
  {
   "cell_type": "code",
   "execution_count": 12,
   "metadata": {},
   "outputs": [],
   "source": [
    "\n",
    "result = collection.insert_many([\n",
    "  { \"year\": '2019', \"temperature\": 14.2, \"rainfall\": 800, \"emissions\": 350 },\n",
    "  { \"year\": '2020', \"temperature\": 14.8, \"rainfall\": 750, \"emissions\": 320 },\n",
    "  { \"year\": '2021', \"temperature\": 15.1, \"rainfall\": 720, \"emissions\": 310 },\n",
    "  { \"year\": '2022', \"temperature\": 15.4, \"rainfall\": 680, \"emissions\": 305 },\n",
    "])"
   ]
  },
  {
   "cell_type": "code",
   "execution_count": 28,
   "metadata": {},
   "outputs": [
    {
     "name": "stdout",
     "output_type": "stream",
     "text": [
      "{'_id': ObjectId('6756ff3c91fef2db3727aa65'), 'year': '2019', 'temperature': 14.2, 'rainfall': 800, 'emissions': 350}\n",
      "{'_id': ObjectId('6756ff3c91fef2db3727aa66'), 'year': '2020', 'temperature': 14.8, 'rainfall': 750, 'emissions': 320}\n",
      "{'_id': ObjectId('6756ff3c91fef2db3727aa67'), 'year': '2021', 'temperature': 15.1, 'rainfall': 720, 'emissions': 310}\n",
      "{'_id': ObjectId('6756ff3c91fef2db3727aa68'), 'year': '2022', 'temperature': 15.4, 'rainfall': 680, 'emissions': 305}\n"
     ]
    }
   ],
   "source": [
    "documents = db.demo.find()\n",
    "\n",
    "# Print out each document\n",
    "for document in documents:\n",
    "    print(document)\n"
   ]
  },
  {
   "cell_type": "code",
   "execution_count": null,
   "metadata": {},
   "outputs": [],
   "source": []
  }
 ],
 "metadata": {
  "kernelspec": {
   "display_name": "Python 3",
   "language": "python",
   "name": "python3"
  },
  "language_info": {
   "codemirror_mode": {
    "name": "ipython",
    "version": 3
   },
   "file_extension": ".py",
   "mimetype": "text/x-python",
   "name": "python",
   "nbconvert_exporter": "python",
   "pygments_lexer": "ipython3",
   "version": "3.8.9"
  }
 },
 "nbformat": 4,
 "nbformat_minor": 2
}
